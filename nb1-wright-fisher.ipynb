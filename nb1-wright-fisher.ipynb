{
 "cells": [
  {
   "cell_type": "markdown",
   "id": "c12ee2cc",
   "metadata": {},
   "source": [
    "# nb1: introduction to ancestry models\n",
    "\n",
    "### Learning objectives: \n",
    "- Introduce terminology for models of ancestry. \n",
    "- Understand the assumptions of an Idealized Population.\n",
    "- Understand how the Wright-Fisher process generates genealogies.\n",
    "- Understand how finite population size (N) affects genealogy length."
   ]
  },
  {
   "cell_type": "markdown",
   "id": "671a74d6",
   "metadata": {},
   "source": [
    "### Phylogeny\n",
    "\n",
    "Generally, when we think of phylogenetic trees it invokes an image of relationships among species, or perhaps even higher-level clades, such as taxonomic genera or families. At this scale, the labels at the tips of a phylogeny are far-removed from the biological samples from which data was collected to infer the tree. In fact, this is very often the case. A label at the tip of a tree represents a hypothesis for the history of a lineage -- a theoretical concept or model for the idea of a cohesive population that has evolved through time. Thus, even when doing something as simple as reading a phylogeny, we are inherently making assumptions about a model of how populations evolve. It is therefore important to have a general understanding of these models.\n",
    "\n",
    "A less familiar type of phylogenetic tree is one that represents evolutionary relationships among the actual heritable units of information that descend from one generation to the next. At this scale, the tips of a phylogenetic tree *are* in fact the biological units for which the relationships are being depicted. An example is a phylogeny of haploid genome segments (*gene copies*). This type of tree is called a genealogy. There is in fact a relationship between genealogies of gene copies and phylogenies of higher-level taxa, in that we can treat the former as being embedded within the latter. This concept is also referred to as a \"gene tree\" vs \"species tree\" relationship, and is the topic of the next two notebooks."
   ]
  },
  {
   "cell_type": "markdown",
   "id": "a67472d4",
   "metadata": {},
   "source": [
    "### Genealogies\n",
    "\n",
    "As a diploid organism, each chromosome in your genome exists in two copies, one inherited from each your two parents. Due to recombination, each chromosome can be further viewed as a mosaic of segments inherited from different ancestors tracing farther back in time. For example, in the copy of chromosome 1 inherited from your mother, some segments are inherited from your maternal grandfather, and others from your maternal grandmother. Within the segments from your maternal grandmother, some trace back to her father and others to her mother, and so on. Following this process backwards in time, a genome can be subdivided into smaller and smaller segments tracing back to fewer and fewer deep ancestors. An important realization of viewing genomes in this way is that even a single genome represents pieces of ancestry from many thousands of ancestral individuals.\n",
    "\n",
    "Because each genome represents so many ancestors, it is common that when comparing the genomes of two individuals, they may share a common ancestor at some place in their genome only a few generations in the past. In fact, two genomes will share common ancestors at every orthologous segment of their genome, but who that ancestor is, and how long ago it occurred, will differ from region to region in the genome. In this way, for any orthologous segment of a genome for 5 diploid individuals there exists a genealogy tracing back the relationships of their 10 gene copies. From region to region in the genome, the topology (relationships) and timing (node heights) of this genealogy will vary. For example, the image below shows four different genealogies for 10 gene copies sampled from a population, representing four different regions in a genome. This variation is termed *genealogical variation*, and is an important component of understanding how *genetic (sequence) variation* in populations arises. \n",
    "\n",
    "\n",
    "<img src=\"https://eaton-lab.org/images/genealogical-variation-5tips.png\" alt=\"genealogy image\" style=\"align: center\">\n"
   ]
  },
  {
   "cell_type": "markdown",
   "id": "423dffab",
   "metadata": {},
   "source": [
    "### Inherited gene copies\n",
    "\n",
    "We will refer to haploid segments of a genome that are non-recombined and inherited between generations as \"gene copies\", since they are the biological units that get *copied* (replicated) from one generation to the next. Even before the discovery of DNA as the replicating molecule underlying genetic inheritance, the biologists Sewall Wright and RA Fisher created statistical models for how discrete units of genetic information are inherited from one generation to the next. Here we will introduce the simplest of these models, termed the Wright-Fisher process, as it forms an important precursor to the next model we will learn about, termed the Coalescent."
   ]
  },
  {
   "cell_type": "markdown",
   "id": "0e7ed325",
   "metadata": {},
   "source": [
    "## Evolutionary models\n",
    "\n",
    "To describe a probabilistic model of genetic evolution in a population first requires making a number of simplifying assumptions about populations. An **idealized population** refers to a theoretical population that meets a particular set of unrealistic but useful assumptions. Most notably, (1) that it is infinite in size, (2) that it has discrete non-overlapping generations, and (3) that the individuals within it are randomly mating. As we will see, these and other assumptions can be relaxed to allow for further insights into their effect on the model. Overall, the purpose of these population genetic models is to understand how and why allele frequencies change over time.\n",
    "\n",
    "In an idealized population there is no selection, mutation, recombination, migration, or genetic drift. Consequently, allele frequencies do not change (it is in Hardy Weinberg equilibrium). By relaxing just one of the assumptions of this model, by making the population size *finite* instead of *infinite*, we can introduce only the possibility for genetic drift to influence evolution. This is the goal of the Wright-Fisher process model."
   ]
  },
  {
   "cell_type": "markdown",
   "id": "40424a2f",
   "metadata": {},
   "source": [
    "### Wright Fisher Model\n",
    "The Wright Fisher (WF) process is a model of the evolution of gene copies in a finite population from one discrete non-overlapping generation to the next. For a population of N diploid individuals the population contains 2N gene copies. Each generation a new 2N gene copies are created, and each randomly samples a parent from the previous generation from which it was inherited. This random sampling procedure represents the 'random mating' assumption of the idealized population.\n",
    "\n",
    "To better understand this model we can execute a function for stochastically simulating the Wright-Fisher process and visualize the outcomes."
   ]
  },
  {
   "cell_type": "code",
   "execution_count": null,
   "id": "a90bc635",
   "metadata": {},
   "outputs": [],
   "source": [
    "from toytree.learn import wright_fisher_simulation"
   ]
  },
  {
   "cell_type": "markdown",
   "id": "4d1ab2e8",
   "metadata": {},
   "source": [
    "First, let's look at a WF process over a single generation. Here time flows from time=1 generation in the past to time=0 representing the present. The simulation models a population of N=20 diploid genomes, representing 40 gene copies. Some gene copies from generation 1 are replicated and leave a single descendant in the next generation, while others leave multiple descendants, and others still might leave none. The direction of time in this model is easy to identify because every gene copy must have an ancestor, but not every gene copy leaves descendants.  "
   ]
  },
  {
   "cell_type": "code",
   "execution_count": null,
   "id": "d16f8f10",
   "metadata": {},
   "outputs": [],
   "source": [
    "wright_fisher_simulation(\n",
    "    time=2,\n",
    "    popsize=20,\n",
    "    height=200,\n",
    "    seed=123,\n",
    ");"
   ]
  },
  {
   "cell_type": "markdown",
   "id": "be8b7c32",
   "metadata": {},
   "source": [
    "When this process is repeated over multiple generations it creates a network type plot like the one below. This represents a simulation of a population. Very few gene copies present at the beginning will have ancestors persist until the very end, but at least one always will."
   ]
  },
  {
   "cell_type": "code",
   "execution_count": null,
   "id": "b0b4ed6c",
   "metadata": {},
   "outputs": [],
   "source": [
    "wright_fisher_simulation(\n",
    "    time=20,\n",
    "    popsize=10,\n",
    "    height=600,\n",
    "    seed=123,\n",
    ");"
   ]
  },
  {
   "cell_type": "markdown",
   "id": "7d8c5ec0",
   "metadata": {},
   "source": [
    "### Genealogies\n",
    "If the WF process is run long enough we expect that all samples present at time=0 will trace back to a single common ancestor present in the simulation. Similarly, for any subsample of gene copies at the present we can trace back their ancestry to identify when each pair shared a common ancestor. This process naturally leads to the formation of **genealogies** of gene copies. For example, in the plot below we highlight the ancestor for a random sample of 4 gene copies, which coalesce in generations 1, 2, and 11. "
   ]
  },
  {
   "cell_type": "code",
   "execution_count": null,
   "id": "aafb0b67",
   "metadata": {},
   "outputs": [],
   "source": [
    "wright_fisher_simulation(\n",
    "    time=20,\n",
    "    popsize=10,\n",
    "    height=600,\n",
    "    seed=111,\n",
    "    nsamples=4,\n",
    ");"
   ]
  },
  {
   "cell_type": "markdown",
   "id": "f1d27a16",
   "metadata": {},
   "source": [
    "### Interactive: coalescent time\n",
    "In the simulation below there is no random `seed` set, so each outcome will represent a different stochastic simulation. Run the code several times and mentally note the time at which all of the four samples highlighted in bold coalesce into a common ancestor. If they do not coalesce before the top of the simulation, then record it as 50. Next, change the `popsize` parameter in the simulation from 5 to 10 and rerun the simulation a few more times. How does the popsize parameter (N diploids in the population) affect the time until the common ancestor? Is the time larger or smaller?"
   ]
  },
  {
   "cell_type": "code",
   "execution_count": null,
   "id": "8de4f788",
   "metadata": {},
   "outputs": [],
   "source": [
    "wright_fisher_simulation(\n",
    "    time=50,\n",
    "    popsize=5,\n",
    "    nsamples=4, \n",
    "    height=700,\n",
    ");"
   ]
  },
  {
   "cell_type": "markdown",
   "id": "dff30913",
   "metadata": {},
   "source": [
    "### Interactive:  sequence variation\n",
    "Finally, this last simulation includes the argument `allele_frequency`, which will randomly assign the gene copies present at the beginning of the simulation to one of two possible allele states (green or orange). Remember, this simulation does not include mutation, only genetic drift, so we interested in how genetic drift can lead to the fixation (loss) of genetic variation over time. Here we allow for there to be genetic variation at the start of the simulation. Because this is a model of ancestry, the genetic variation at the tips of the sampled genealogy (bold edges) will depend on the genotypes of their ancestors.\n",
    "\n",
    "This is intended to show that genealogical relationships are distinct from the related pattern of genetic variation. A genealogy for a set of samples exists whether or not there is allelic variation among the gene copies in a population. However, to the extent there is variation, the genealogy importantly traces how that variation is inherited. Run this simulation several times to view different stochastic outcomes."
   ]
  },
  {
   "cell_type": "code",
   "execution_count": null,
   "id": "a2c5cb6d",
   "metadata": {},
   "outputs": [],
   "source": [
    "wright_fisher_simulation(\n",
    "    time=30,\n",
    "    popsize=10,\n",
    "    nsamples=4, \n",
    "    allele_frequency=0.5,\n",
    "    height=600,\n",
    ");"
   ]
  },
  {
   "cell_type": "markdown",
   "id": "bd9f9630",
   "metadata": {},
   "source": [
    "### Genealogies and the Coalescent\n",
    "\n",
    "Sewall Wright (1931) described that in a finite population evolving under a WF process the probability that two random gene copies will share a common ancestor in the previous generation is 1/2N, since there are 2N gene copies in the population of N diploids. This type of event, where two descendant gene copies merge into a common ancestor, when viewed backwards in time, is termed a coalescence. It turns that this view of population histories, in the form of probabilistic statements about common ancestry, can be a very powerful way to describe evolution in populations. \n",
    "\n",
    "As you likely observed in the interactive exercise above, when the N parameter is larger, it takes longer for k samples in a population to coalesce to a common ancestor. In fact, under the simplifying assumptions of the WF process, N is the only parameter necessary to predict the time until two or more samples share a common ancestor. Based on this fact, an entire statistical framework has been developed to study population genetic variation based on probabilistic expectations for the time and its variance until some number of samples coalesce, called **Coalescent Theory**. This is the subject of the next lesson.\n"
   ]
  },
  {
   "cell_type": "markdown",
   "id": "72a8e94c",
   "metadata": {},
   "source": [
    "## Summary\n",
    "\n",
    "- An idealized population is a model in which no evolution takes place, lacking mutation, drift, selection, recombination, or migration. \n",
    "\n",
    "- A Wright-Fisher process is a discrete-time process of reproduction in an idealized population of **finite size** over multiple generations. It relaxes the assumption of no genetic drift.\n",
    "\n",
    "\n",
    "- Interpreting a WF-process visualizion requires understanding the direction of time, and which gene copies are ancestors or descendants of others.  \n",
    "\n",
    "\n",
    "- The WF process gives rise to genealogical relationships among gene copies.\n",
    "\n",
    "\n",
    "- All gene copies in a population will eventually coalescent to a common ancestor. The probability that two gene copies share a common ancestor 1 generation ago is 1 / 2N.\n",
    "\n",
    "- Under these assumptions, the population size (N) parameter alone determines the expected time until coalescence.\n"
   ]
  }
 ],
 "metadata": {
  "kernelspec": {
   "display_name": "Python 3 (ipykernel)",
   "language": "python",
   "name": "python3"
  },
  "language_info": {
   "codemirror_mode": {
    "name": "ipython",
    "version": 3
   },
   "file_extension": ".py",
   "mimetype": "text/x-python",
   "name": "python",
   "nbconvert_exporter": "python",
   "pygments_lexer": "ipython3",
   "version": "3.10.11"
  }
 },
 "nbformat": 4,
 "nbformat_minor": 5
}
